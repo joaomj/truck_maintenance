{
 "cells": [
  {
   "cell_type": "markdown",
   "metadata": {},
   "source": [
    "**Template from:** https://towardsdatascience.com/7-steps-to-a-successful-data-science-project-b452a9b57149"
   ]
  },
  {
   "cell_type": "markdown",
   "metadata": {},
   "source": [
    "# **1. Definição do Problema**\n",
    "\n",
    "Your objective as a consultant is to decrease the maintenance costs of this particular (air) system. Maintenance costs for the air system may vary depending on the actual condition of the truck.\n",
    "\n",
    "- If a truck is sent for maintenance, but it does not show any defect in this system, around $10 will be charged for the time spent during the\n",
    "inspection by the specialized team. \n",
    "- If a truck is sent for maintenance and it is defective in this system, $25 will be charged to perform the preventive repair service.\n",
    "- If a truck with defects in the air system is not sent directly for maintenance, the company pays $500 to carry out corrective\n",
    "maintenance of the same, considering the labor, replacement of parts and other possible inconveniences (truck broke down in the middle of\n",
    "the track for example).\n",
    "\n",
    "During the alignment meeting with those responsible for the project and the company's IT team, some information was given to you:\n",
    "- The technical team informed you that all information regarding the air system of the paths will be made available to you, but for bureaucratic reasons regarding company contracts, all columns had to be encoded.\n",
    "- The technical team also informed you that given the company's recent digitization, some information may be missing from the database sent to\n",
    "you.\n",
    "\n",
    "Finally, the technical team informed you that the source of information comes from the company's maintenance sector, where they created a column in the database called **class: \"pos\"** would be those trucks that had defects in the air system and **\"neg\"** would be those trucks that had a defect in any system other than the air system.\n",
    "\n",
    "\n",
    "Those responsible for the project are very excited about the initiative and, when asking for a technical proof of concept, they have put forth as **main requirements:**\n",
    "- Can we reduce our expenses with this type of maintenance using AI\n",
    "techniques?\n",
    "- Can you present to me the main factors that point to a possible failure in\n",
    "this system?"
   ]
  },
  {
   "cell_type": "markdown",
   "metadata": {},
   "source": [
    "# 2. **Obtendo os dados**"
   ]
  },
  {
   "cell_type": "markdown",
   "metadata": {},
   "source": [
    "## 2.1. Bibliotecas"
   ]
  },
  {
   "cell_type": "code",
   "execution_count": 3,
   "metadata": {},
   "outputs": [],
   "source": [
    "import pandas as pd\n",
    "import matplotlib.pyplot as plt\n",
    "import seaborn as sns\n",
    "import numpy as np"
   ]
  },
  {
   "cell_type": "markdown",
   "metadata": {},
   "source": [
    "## 2.2. Funções"
   ]
  },
  {
   "cell_type": "markdown",
   "metadata": {},
   "source": [
    "## 2.3. Carregando os dados"
   ]
  },
  {
   "cell_type": "code",
   "execution_count": 4,
   "metadata": {},
   "outputs": [
    {
     "data": {
      "text/html": [
       "<div>\n",
       "<style scoped>\n",
       "    .dataframe tbody tr th:only-of-type {\n",
       "        vertical-align: middle;\n",
       "    }\n",
       "\n",
       "    .dataframe tbody tr th {\n",
       "        vertical-align: top;\n",
       "    }\n",
       "\n",
       "    .dataframe thead th {\n",
       "        text-align: right;\n",
       "    }\n",
       "</style>\n",
       "<table border=\"1\" class=\"dataframe\">\n",
       "  <thead>\n",
       "    <tr style=\"text-align: right;\">\n",
       "      <th></th>\n",
       "      <th>class</th>\n",
       "      <th>aa_000</th>\n",
       "      <th>ab_000</th>\n",
       "      <th>ac_000</th>\n",
       "      <th>ad_000</th>\n",
       "      <th>ae_000</th>\n",
       "      <th>af_000</th>\n",
       "      <th>ag_000</th>\n",
       "      <th>ag_001</th>\n",
       "      <th>ag_002</th>\n",
       "      <th>...</th>\n",
       "      <th>ee_002</th>\n",
       "      <th>ee_003</th>\n",
       "      <th>ee_004</th>\n",
       "      <th>ee_005</th>\n",
       "      <th>ee_006</th>\n",
       "      <th>ee_007</th>\n",
       "      <th>ee_008</th>\n",
       "      <th>ee_009</th>\n",
       "      <th>ef_000</th>\n",
       "      <th>eg_000</th>\n",
       "    </tr>\n",
       "  </thead>\n",
       "  <tbody>\n",
       "    <tr>\n",
       "      <th>0</th>\n",
       "      <td>neg</td>\n",
       "      <td>76698</td>\n",
       "      <td>na</td>\n",
       "      <td>2130706438</td>\n",
       "      <td>280</td>\n",
       "      <td>0</td>\n",
       "      <td>0</td>\n",
       "      <td>0</td>\n",
       "      <td>0</td>\n",
       "      <td>0</td>\n",
       "      <td>...</td>\n",
       "      <td>1240520</td>\n",
       "      <td>493384</td>\n",
       "      <td>721044</td>\n",
       "      <td>469792</td>\n",
       "      <td>339156</td>\n",
       "      <td>157956</td>\n",
       "      <td>73224</td>\n",
       "      <td>0</td>\n",
       "      <td>0</td>\n",
       "      <td>0</td>\n",
       "    </tr>\n",
       "    <tr>\n",
       "      <th>1</th>\n",
       "      <td>neg</td>\n",
       "      <td>33058</td>\n",
       "      <td>na</td>\n",
       "      <td>0</td>\n",
       "      <td>na</td>\n",
       "      <td>0</td>\n",
       "      <td>0</td>\n",
       "      <td>0</td>\n",
       "      <td>0</td>\n",
       "      <td>0</td>\n",
       "      <td>...</td>\n",
       "      <td>421400</td>\n",
       "      <td>178064</td>\n",
       "      <td>293306</td>\n",
       "      <td>245416</td>\n",
       "      <td>133654</td>\n",
       "      <td>81140</td>\n",
       "      <td>97576</td>\n",
       "      <td>1500</td>\n",
       "      <td>0</td>\n",
       "      <td>0</td>\n",
       "    </tr>\n",
       "    <tr>\n",
       "      <th>2</th>\n",
       "      <td>neg</td>\n",
       "      <td>41040</td>\n",
       "      <td>na</td>\n",
       "      <td>228</td>\n",
       "      <td>100</td>\n",
       "      <td>0</td>\n",
       "      <td>0</td>\n",
       "      <td>0</td>\n",
       "      <td>0</td>\n",
       "      <td>0</td>\n",
       "      <td>...</td>\n",
       "      <td>277378</td>\n",
       "      <td>159812</td>\n",
       "      <td>423992</td>\n",
       "      <td>409564</td>\n",
       "      <td>320746</td>\n",
       "      <td>158022</td>\n",
       "      <td>95128</td>\n",
       "      <td>514</td>\n",
       "      <td>0</td>\n",
       "      <td>0</td>\n",
       "    </tr>\n",
       "    <tr>\n",
       "      <th>3</th>\n",
       "      <td>neg</td>\n",
       "      <td>12</td>\n",
       "      <td>0</td>\n",
       "      <td>70</td>\n",
       "      <td>66</td>\n",
       "      <td>0</td>\n",
       "      <td>10</td>\n",
       "      <td>0</td>\n",
       "      <td>0</td>\n",
       "      <td>0</td>\n",
       "      <td>...</td>\n",
       "      <td>240</td>\n",
       "      <td>46</td>\n",
       "      <td>58</td>\n",
       "      <td>44</td>\n",
       "      <td>10</td>\n",
       "      <td>0</td>\n",
       "      <td>0</td>\n",
       "      <td>0</td>\n",
       "      <td>4</td>\n",
       "      <td>32</td>\n",
       "    </tr>\n",
       "    <tr>\n",
       "      <th>4</th>\n",
       "      <td>neg</td>\n",
       "      <td>60874</td>\n",
       "      <td>na</td>\n",
       "      <td>1368</td>\n",
       "      <td>458</td>\n",
       "      <td>0</td>\n",
       "      <td>0</td>\n",
       "      <td>0</td>\n",
       "      <td>0</td>\n",
       "      <td>0</td>\n",
       "      <td>...</td>\n",
       "      <td>622012</td>\n",
       "      <td>229790</td>\n",
       "      <td>405298</td>\n",
       "      <td>347188</td>\n",
       "      <td>286954</td>\n",
       "      <td>311560</td>\n",
       "      <td>433954</td>\n",
       "      <td>1218</td>\n",
       "      <td>0</td>\n",
       "      <td>0</td>\n",
       "    </tr>\n",
       "  </tbody>\n",
       "</table>\n",
       "<p>5 rows × 171 columns</p>\n",
       "</div>"
      ],
      "text/plain": [
       "  class  aa_000 ab_000      ac_000 ad_000 ae_000 af_000 ag_000 ag_001 ag_002  \\\n",
       "0   neg   76698     na  2130706438    280      0      0      0      0      0   \n",
       "1   neg   33058     na           0     na      0      0      0      0      0   \n",
       "2   neg   41040     na         228    100      0      0      0      0      0   \n",
       "3   neg      12      0          70     66      0     10      0      0      0   \n",
       "4   neg   60874     na        1368    458      0      0      0      0      0   \n",
       "\n",
       "   ...   ee_002  ee_003  ee_004  ee_005  ee_006  ee_007  ee_008 ee_009 ef_000  \\\n",
       "0  ...  1240520  493384  721044  469792  339156  157956   73224      0      0   \n",
       "1  ...   421400  178064  293306  245416  133654   81140   97576   1500      0   \n",
       "2  ...   277378  159812  423992  409564  320746  158022   95128    514      0   \n",
       "3  ...      240      46      58      44      10       0       0      0      4   \n",
       "4  ...   622012  229790  405298  347188  286954  311560  433954   1218      0   \n",
       "\n",
       "  eg_000  \n",
       "0      0  \n",
       "1      0  \n",
       "2      0  \n",
       "3     32  \n",
       "4      0  \n",
       "\n",
       "[5 rows x 171 columns]"
      ]
     },
     "execution_count": 4,
     "metadata": {},
     "output_type": "execute_result"
    }
   ],
   "source": [
    "df_train = pd.read_csv('data/air_system_previous_years.csv')\n",
    "df_train.head()"
   ]
  },
  {
   "cell_type": "code",
   "execution_count": 5,
   "metadata": {},
   "outputs": [],
   "source": [
    "# df_test = pd.read_csv('data/air_system_present_year.csv')\n",
    "# df_test.shape"
   ]
  },
  {
   "cell_type": "markdown",
   "metadata": {},
   "source": [
    "O dataset do ano atual tem a mesma quantidade de features, porém tem menos ocorrências (linhas). Ele será usado como dataset de teste, enquanto os dados dos anos anteriores serão usados para treinamento."
   ]
  },
  {
   "cell_type": "markdown",
   "metadata": {},
   "source": [
    "# **3. Data Cleaning**"
   ]
  },
  {
   "cell_type": "code",
   "execution_count": 6,
   "metadata": {},
   "outputs": [
    {
     "data": {
      "text/plain": [
       "(60000, 171)"
      ]
     },
     "execution_count": 6,
     "metadata": {},
     "output_type": "execute_result"
    }
   ],
   "source": [
    "df_train.shape"
   ]
  },
  {
   "cell_type": "markdown",
   "metadata": {},
   "source": [
    "**Perceba que o dataset tem 60 mil linhas e 171 colunas (features)**, incluindo a variável resposta ('class')."
   ]
  },
  {
   "cell_type": "markdown",
   "metadata": {},
   "source": [
    "### **Substituindo valores da coluna 'class' por binários**"
   ]
  },
  {
   "cell_type": "code",
   "execution_count": 7,
   "metadata": {},
   "outputs": [
    {
     "name": "stderr",
     "output_type": "stream",
     "text": [
      "/tmp/ipykernel_117844/1578300272.py:1: FutureWarning: Downcasting behavior in `replace` is deprecated and will be removed in a future version. To retain the old behavior, explicitly call `result.infer_objects(copy=False)`. To opt-in to the future behavior, set `pd.set_option('future.no_silent_downcasting', True)`\n",
      "  df_train['class'] = df_train['class'].replace(['pos','neg'],[1,0]).astype(int)\n"
     ]
    }
   ],
   "source": [
    "df_train['class'] = df_train['class'].replace(['pos','neg'],[1,0]).astype(int)"
   ]
  },
  {
   "cell_type": "markdown",
   "metadata": {},
   "source": [
    "### **Verificando se a variável resposta está desbalanceada**"
   ]
  },
  {
   "cell_type": "code",
   "execution_count": 8,
   "metadata": {},
   "outputs": [
    {
     "name": "stderr",
     "output_type": "stream",
     "text": [
      "/tmp/ipykernel_117844/2239150361.py:9: FutureWarning: \n",
      "\n",
      "Passing `palette` without assigning `hue` is deprecated and will be removed in v0.14.0. Assign the `x` variable to `hue` and set `legend=False` for the same effect.\n",
      "\n",
      "  ax = sns.barplot(x=class_counts.index, y=class_counts.values, palette=palette)#hue=class_counts, legend=False)\n"
     ]
    },
    {
     "data": {
      "image/png": "[encoded data removed]",
      "text/plain": [
       "<Figure size 640x480 with 1 Axes>"
      ]
     },
     "metadata": {},
     "output_type": "display_data"
    },
    {
     "name": "stdout",
     "output_type": "stream",
     "text": [
      "Número de positivos:  1000\n",
      "Número de negativos:  59000\n"
     ]
    }
   ],
   "source": [
    "# Plotando a distribuição de valores da nossa variável resposta 'class'\n",
    "class_counts = df_train['class'].value_counts()\n",
    "total = class_counts.sum()\n",
    "\n",
    "# Criando uma paleta de cores personalizada\n",
    "palette = sns.color_palette(\"deep\", len(class_counts))\n",
    "\n",
    "# Plotando o gráfico com cores diferentes para cada barra\n",
    "ax = sns.barplot(x=class_counts.index, y=class_counts.values, palette=palette)#hue=class_counts, legend=False)\n",
    "plt.title('Distribuição de valores em CLASS')\n",
    "plt.xlabel('Valor de CLASS')\n",
    "plt.ylabel('Contagem')\n",
    "\n",
    "# Adicionando os valores percentuais acima de cada barra\n",
    "for i, count in enumerate(class_counts):\n",
    "    percentage = f'{(count / total) * 100:.2f}%'\n",
    "    ax.text(i, count + 0.05, percentage, ha='center')\n",
    "\n",
    "plt.show()\n",
    "plt.savefig('img/class_dist.png')\n",
    "plt.close()\n",
    "\n",
    "print('Número de positivos: ', class_counts[1])\n",
    "print('Número de negativos: ', class_counts[0])"
   ]
  },
  {
   "cell_type": "markdown",
   "metadata": {},
   "source": [
    "**O dataset é extremamente desbalanceado**, com a maioria dos valores de CLASS sendo negativos."
   ]
  },
  {
   "cell_type": "markdown",
   "metadata": {},
   "source": [
    "### **Substituindo os valores faltantes 'na' por Nan**"
   ]
  },
  {
   "cell_type": "code",
   "execution_count": 9,
   "metadata": {},
   "outputs": [
    {
     "data": {
      "text/html": [
       "<div>\n",
       "<style scoped>\n",
       "    .dataframe tbody tr th:only-of-type {\n",
       "        vertical-align: middle;\n",
       "    }\n",
       "\n",
       "    .dataframe tbody tr th {\n",
       "        vertical-align: top;\n",
       "    }\n",
       "\n",
       "    .dataframe thead th {\n",
       "        text-align: right;\n",
       "    }\n",
       "</style>\n",
       "<table border=\"1\" class=\"dataframe\">\n",
       "  <thead>\n",
       "    <tr style=\"text-align: right;\">\n",
       "      <th></th>\n",
       "      <th>class</th>\n",
       "      <th>aa_000</th>\n",
       "      <th>ab_000</th>\n",
       "      <th>ac_000</th>\n",
       "      <th>ad_000</th>\n",
       "      <th>ae_000</th>\n",
       "      <th>af_000</th>\n",
       "      <th>ag_000</th>\n",
       "      <th>ag_001</th>\n",
       "      <th>ag_002</th>\n",
       "      <th>...</th>\n",
       "      <th>ee_002</th>\n",
       "      <th>ee_003</th>\n",
       "      <th>ee_004</th>\n",
       "      <th>ee_005</th>\n",
       "      <th>ee_006</th>\n",
       "      <th>ee_007</th>\n",
       "      <th>ee_008</th>\n",
       "      <th>ee_009</th>\n",
       "      <th>ef_000</th>\n",
       "      <th>eg_000</th>\n",
       "    </tr>\n",
       "  </thead>\n",
       "  <tbody>\n",
       "    <tr>\n",
       "      <th>0</th>\n",
       "      <td>0</td>\n",
       "      <td>76698</td>\n",
       "      <td>NaN</td>\n",
       "      <td>2130706438</td>\n",
       "      <td>280</td>\n",
       "      <td>0</td>\n",
       "      <td>0</td>\n",
       "      <td>0</td>\n",
       "      <td>0</td>\n",
       "      <td>0</td>\n",
       "      <td>...</td>\n",
       "      <td>1240520</td>\n",
       "      <td>493384</td>\n",
       "      <td>721044</td>\n",
       "      <td>469792</td>\n",
       "      <td>339156</td>\n",
       "      <td>157956</td>\n",
       "      <td>73224</td>\n",
       "      <td>0</td>\n",
       "      <td>0</td>\n",
       "      <td>0</td>\n",
       "    </tr>\n",
       "    <tr>\n",
       "      <th>1</th>\n",
       "      <td>0</td>\n",
       "      <td>33058</td>\n",
       "      <td>NaN</td>\n",
       "      <td>0</td>\n",
       "      <td>NaN</td>\n",
       "      <td>0</td>\n",
       "      <td>0</td>\n",
       "      <td>0</td>\n",
       "      <td>0</td>\n",
       "      <td>0</td>\n",
       "      <td>...</td>\n",
       "      <td>421400</td>\n",
       "      <td>178064</td>\n",
       "      <td>293306</td>\n",
       "      <td>245416</td>\n",
       "      <td>133654</td>\n",
       "      <td>81140</td>\n",
       "      <td>97576</td>\n",
       "      <td>1500</td>\n",
       "      <td>0</td>\n",
       "      <td>0</td>\n",
       "    </tr>\n",
       "    <tr>\n",
       "      <th>2</th>\n",
       "      <td>0</td>\n",
       "      <td>41040</td>\n",
       "      <td>NaN</td>\n",
       "      <td>228</td>\n",
       "      <td>100</td>\n",
       "      <td>0</td>\n",
       "      <td>0</td>\n",
       "      <td>0</td>\n",
       "      <td>0</td>\n",
       "      <td>0</td>\n",
       "      <td>...</td>\n",
       "      <td>277378</td>\n",
       "      <td>159812</td>\n",
       "      <td>423992</td>\n",
       "      <td>409564</td>\n",
       "      <td>320746</td>\n",
       "      <td>158022</td>\n",
       "      <td>95128</td>\n",
       "      <td>514</td>\n",
       "      <td>0</td>\n",
       "      <td>0</td>\n",
       "    </tr>\n",
       "    <tr>\n",
       "      <th>3</th>\n",
       "      <td>0</td>\n",
       "      <td>12</td>\n",
       "      <td>0</td>\n",
       "      <td>70</td>\n",
       "      <td>66</td>\n",
       "      <td>0</td>\n",
       "      <td>10</td>\n",
       "      <td>0</td>\n",
       "      <td>0</td>\n",
       "      <td>0</td>\n",
       "      <td>...</td>\n",
       "      <td>240</td>\n",
       "      <td>46</td>\n",
       "      <td>58</td>\n",
       "      <td>44</td>\n",
       "      <td>10</td>\n",
       "      <td>0</td>\n",
       "      <td>0</td>\n",
       "      <td>0</td>\n",
       "      <td>4</td>\n",
       "      <td>32</td>\n",
       "    </tr>\n",
       "    <tr>\n",
       "      <th>4</th>\n",
       "      <td>0</td>\n",
       "      <td>60874</td>\n",
       "      <td>NaN</td>\n",
       "      <td>1368</td>\n",
       "      <td>458</td>\n",
       "      <td>0</td>\n",
       "      <td>0</td>\n",
       "      <td>0</td>\n",
       "      <td>0</td>\n",
       "      <td>0</td>\n",
       "      <td>...</td>\n",
       "      <td>622012</td>\n",
       "      <td>229790</td>\n",
       "      <td>405298</td>\n",
       "      <td>347188</td>\n",
       "      <td>286954</td>\n",
       "      <td>311560</td>\n",
       "      <td>433954</td>\n",
       "      <td>1218</td>\n",
       "      <td>0</td>\n",
       "      <td>0</td>\n",
       "    </tr>\n",
       "  </tbody>\n",
       "</table>\n",
       "<p>5 rows × 171 columns</p>\n",
       "</div>"
      ],
      "text/plain": [
       "   class  aa_000 ab_000      ac_000 ad_000 ae_000 af_000 ag_000 ag_001 ag_002  \\\n",
       "0      0   76698    NaN  2130706438    280      0      0      0      0      0   \n",
       "1      0   33058    NaN           0    NaN      0      0      0      0      0   \n",
       "2      0   41040    NaN         228    100      0      0      0      0      0   \n",
       "3      0      12      0          70     66      0     10      0      0      0   \n",
       "4      0   60874    NaN        1368    458      0      0      0      0      0   \n",
       "\n",
       "   ...   ee_002  ee_003  ee_004  ee_005  ee_006  ee_007  ee_008 ee_009 ef_000  \\\n",
       "0  ...  1240520  493384  721044  469792  339156  157956   73224      0      0   \n",
       "1  ...   421400  178064  293306  245416  133654   81140   97576   1500      0   \n",
       "2  ...   277378  159812  423992  409564  320746  158022   95128    514      0   \n",
       "3  ...      240      46      58      44      10       0       0      0      4   \n",
       "4  ...   622012  229790  405298  347188  286954  311560  433954   1218      0   \n",
       "\n",
       "  eg_000  \n",
       "0      0  \n",
       "1      0  \n",
       "2      0  \n",
       "3     32  \n",
       "4      0  \n",
       "\n",
       "[5 rows x 171 columns]"
      ]
     },
     "execution_count": 9,
     "metadata": {},
     "output_type": "execute_result"
    }
   ],
   "source": [
    "df_train = df_train.replace('na',np.NaN)\n",
    "df_train.head()"
   ]
  },
  {
   "cell_type": "markdown",
   "metadata": {},
   "source": [
    "### **Removendo features com apenas um único valor**\n",
    "Essas features não são relevantes para o treinamento dos modelos."
   ]
  },
  {
   "cell_type": "code",
   "execution_count": 10,
   "metadata": {},
   "outputs": [
    {
     "name": "stdout",
     "output_type": "stream",
     "text": [
      "A feature com variância zero é:  cd_000\n"
     ]
    },
    {
     "data": {
      "text/plain": [
       "(60000, 170)"
      ]
     },
     "execution_count": 10,
     "metadata": {},
     "output_type": "execute_result"
    }
   ],
   "source": [
    "# Primeiro converte o dataframe inteiro para formato numérico (float)\n",
    "df_train = df_train.astype(float)\n",
    "\n",
    "# Agora avalia quais colunas têm desvio-padrão zero = sem variância\n",
    "for i in df_train:\n",
    "  if df_train[i].std() == 0:\n",
    "    df_train = df_train.drop([i],axis=1)\n",
    "    print('A feature com variância zero é: ',i)\n",
    "\n",
    "df_train.shape"
   ]
  },
  {
   "cell_type": "markdown",
   "metadata": {},
   "source": [
    "Apenas uma feature tinha variância zero e foi removida."
   ]
  },
  {
   "cell_type": "markdown",
   "metadata": {},
   "source": [
    "### **Removendo duplicadas**"
   ]
  },
  {
   "cell_type": "code",
   "execution_count": 11,
   "metadata": {},
   "outputs": [
    {
     "name": "stdout",
     "output_type": "stream",
     "text": [
      "(59999, 170)\n"
     ]
    }
   ],
   "source": [
    "# remove colunas duplicadas\n",
    "df_train = df_train.drop_duplicates(keep = 'first')\n",
    "\n",
    "# remove linhas duplicadas (primeira transposição) e depois reformata o dataframe para o original (segunda transposição)\n",
    "df_train = df_train.T.drop_duplicates().T\n",
    "\n",
    "print(df_train.shape)"
   ]
  },
  {
   "cell_type": "markdown",
   "metadata": {},
   "source": [
    "Apenas uma linha foi removida. Nenhuma coluna duplicada foi encontrada."
   ]
  },
  {
   "cell_type": "markdown",
   "metadata": {},
   "source": [
    "### **Limpeza do dataset de treino**\n",
    "Faremos com ele todas as etapas feitas até aqui com o dataset de treino."
   ]
  },
  {
   "cell_type": "code",
   "execution_count": 12,
   "metadata": {},
   "outputs": [],
   "source": [
    "# df_test['class'] = df_test['class'].replace(['pos','neg'],[1,0])\n",
    "# df_test = df_test.replace('na',np.NaN)\n",
    "# df_test = df_test.astype(float)\n",
    "# for i in df_test:\n",
    "#   if df_test[i].std() == 0:\n",
    "#     df_test = df_test.drop([i],axis=1)\n",
    "#     print('The feature with zero variance is : ',i)\n",
    "\n",
    "# df_test = df_test.drop_duplicates(keep = 'first')\n",
    "# df_test = df_test.T.drop_duplicates().T\n",
    "# print(df_test.shape)"
   ]
  },
  {
   "cell_type": "markdown",
   "metadata": {},
   "source": [
    "# **4. Exploratory Data Analysis (EDA)**"
   ]
  },
  {
   "cell_type": "markdown",
   "metadata": {},
   "source": [
    "### **Verificando quantidade de valores faltantes**"
   ]
  },
  {
   "cell_type": "code",
   "execution_count": 13,
   "metadata": {},
   "outputs": [],
   "source": [
    "# verifica quantidade de nulos de cada coluna exceto 'class'\n",
    "valores_faltantes = dict(df_train.drop('class',axis=1).isnull().sum())\n",
    "\n",
    "\n",
    "valores_faltantes = dict(sorted(valores_faltantes.items(), key=lambda item:item[1],reverse=True))"
   ]
  },
  {
   "cell_type": "code",
   "execution_count": 14,
   "metadata": {},
   "outputs": [
    {
     "data": {
      "image/png": "[encoded data removed]",
      "text/plain": [
       "<Figure size 5000x2000 with 1 Axes>"
      ]
     },
     "metadata": {},
     "output_type": "display_data"
    }
   ],
   "source": [
    "# plotando gráfico de barras com % de nulos nas 50 colunas com mais valores nulos\n",
    "def barplot(data,sum):\n",
    "  plt.figure(figsize = (50,20))\n",
    "  ax = sns.barplot(x = list(data.keys())[:50], y = list(data.values())[:50], hue=list(data.keys())[:50], legend=False)\n",
    "\n",
    "  for p in ax.patches:\n",
    "    percentage = '{:.1f}%'.format(100 * p.get_height()/sum)\n",
    "    x = p.get_x() \n",
    "    y = p.get_height()+500\n",
    "    ax.annotate(percentage,(x,y),size=12)\n",
    "  \n",
    "  plt.show()\n",
    "  plt.savefig('img/count_null.png')\n",
    "  plt.close()\n",
    "\n",
    "barplot(valores_faltantes,df_train.shape[0])"
   ]
  },
  {
   "cell_type": "markdown",
   "metadata": {},
   "source": [
    "Conforme o gráfico acima, o dataset tem 8 features com mais de 60% de valores nulos; 16 features entre 20-60% nulos; e todas as restantes com menos de 20% nulos."
   ]
  },
  {
   "cell_type": "markdown",
   "metadata": {},
   "source": [
    "### **Separando features de histograma do dataset**\n",
    "As features estão com nomes codificados. Os nomes no formato 'letras_000' são números. Os nomes no formato 'letras_00x' são intervalos (*bins*) de histogramas."
   ]
  },
  {
   "cell_type": "code",
   "execution_count": 20,
   "metadata": {},
   "outputs": [
    {
     "data": {
      "image/png": "[encoded data removed]",
      "text/plain": [
       "<Figure size 1200x600 with 1 Axes>"
      ]
     },
     "metadata": {},
     "output_type": "display_data"
    }
   ],
   "source": [
    "# Exemplo de features que representam bins de um histograma: features começadas com 'ee'\n",
    "\n",
    "# Selecionando apenas as features que representam bins de histogramas\n",
    "features_bins = ['ee_000', 'ee_001', 'ee_002', 'ee_003', 'ee_004', 'ee_005', 'ee_006', 'ee_007', 'ee_008', 'ee_009']\n",
    "\n",
    "# Agrupando as features pelo prefixo 'ee'\n",
    "df_ee = df_train[features_bins]\n",
    "\n",
    "# Plotando histogramas para cada grupo de features\n",
    "plt.figure(figsize=(12, 6))\n",
    "for col in df_ee.columns:\n",
    "    sns.histplot(df_ee[col], bins=10, kde=False, alpha=0.5, label=col)\n",
    "\n",
    "plt.title('Distribuição dos Bins de Histograma de ee')\n",
    "plt.xlabel('Valor')\n",
    "plt.ylabel('Contagem')\n",
    "plt.legend(title='Bins de ee')\n",
    "plt.tight_layout()\n",
    "plt.show()\n",
    "plt.savefig('img/hist_feature_ee.png')\n",
    "plt.close()\n"
   ]
  },
  {
   "cell_type": "code",
   "execution_count": 21,
   "metadata": {},
   "outputs": [
    {
     "name": "stdout",
     "output_type": "stream",
     "text": [
      "(59999, 70)\n",
      "(59999, 99)\n"
     ]
    }
   ],
   "source": [
    "# Separando as features que são bins de histograma\n",
    "hist_col = []\n",
    "for i in df_train.columns:\n",
    "  if i[-1] != '0': # se o último dígito do nome da coluna não é zero, então representa bin de histograma\n",
    "    hist_col.append(i)\n",
    "\n",
    "hist_col.extend(['ag_000','ay_000','az_000','ba_000','cn_000','cs_000','ee_000']) # adiciona outras features que representam bin mas que terminam em zero\n",
    "\n",
    "hist_features = df_train[hist_col]\n",
    "hist_features = hist_features.drop('class',axis=1) # exclui a variável resposta do conjunto de colunas que representam bins\n",
    "num_features = df_train.drop(hist_col,axis=1) # features numéricas = dataframe sem as colunas de bins de histogramas\n",
    "\n",
    "\n",
    "print(hist_features.shape)\n",
    "print(num_features.shape)"
   ]
  },
  {
   "cell_type": "markdown",
   "metadata": {},
   "source": [
    "Observe que existem 70 features que representam bins de histogramas e 99 features numéricas."
   ]
  },
  {
   "cell_type": "markdown",
   "metadata": {},
   "source": [
    "### **Extraindo features importantes**\n",
    "\n",
    "- Como existem muitas features, será preciso selecionar as mais relevantes antes de realizar a EDA delas.\n",
    "- Usarei o *Recursive Feature Elimination* (RFE). Ele é simples de utilizar e eficiente para selecionar features (https://machinelearningmastery.com/rfe-feature-selection-in-python/).\n",
    "- Como ele funciona? De maneira resumida, ele utiliza um algoritmo de ML para rankear features e elimina aquelas com menor score. Em seguida, ele reaplica o algoritmo nas features remanescentes, repetindo o processo de eliminação até restarem apenas a quantidade de features desejadas.\n",
    "- O ideal seria fazer uma seleção de algoritmos e números de features com melhor performance do RFE, mas dado o tamanho do dataset, meus recursos computacionais e o prazo disponível, vejamos como será o desempenho desta versão básica (10 top features de cada tipo - numérica ou histograma, usando algoritmo random forest). O artigo (https://machinelearningmastery.com/rfe-feature-selection-in-python/) explica como implementar essa seleção.\n"
   ]
  },
  {
   "cell_type": "markdown",
   "metadata": {},
   "source": [
    "#### Obtendo as features mais importantes de histogramas"
   ]
  },
  {
   "cell_type": "code",
   "execution_count": 22,
   "metadata": {},
   "outputs": [],
   "source": [
    "# Definindo o RFE\n",
    "from sklearn.feature_selection import RFE\n",
    "from sklearn.ensemble import RandomForestClassifier\n",
    "\n",
    "\n",
    "def top_features_rfe(X,y,n):\n",
    "  estimator = RandomForestClassifier(max_depth=5) # algoritmo de ML escolhido para rankear as features\n",
    "  rfe = RFE(estimator = estimator, n_features_to_select=n, verbose=0)\n",
    "  rfe.fit(X,y)\n",
    "  return (rfe.support_)"
   ]
  },
  {
   "cell_type": "code",
   "execution_count": 23,
   "metadata": {},
   "outputs": [
    {
     "name": "stdout",
     "output_type": "stream",
     "text": [
      "Top histogram features are :  ['ag_001', 'ag_002', 'ag_003', 'ay_005', 'ba_004', 'cs_002', 'ee_005', 'ba_000', 'cn_000', 'ee_000']\n",
      "Total no of important features : 10\n"
     ]
    }
   ],
   "source": [
    "# Obtendo as features mais importantes\n",
    "\n",
    "hist_features['class'] = df_train['class']\n",
    "imp_hist_features = hist_features.dropna()\n",
    "y = imp_hist_features['class'] \n",
    "X = imp_hist_features.drop('class',axis=1)\n",
    "top_hist_features_rfe = top_features_rfe(X,y,10) # procura as 10 features mais importantes\n",
    "top_hist_features=[];\n",
    "hist_col = X.columns\n",
    "\n",
    "for i in range(len(hist_col)):\n",
    "  if top_hist_features_rfe[i]:\n",
    "    top_hist_features.append(hist_col[i]) \n",
    "\n",
    "print(\"Top histogram features are : \", top_hist_features)\n",
    "print(\"Total no of important features :\", len(top_hist_features))"
   ]
  },
  {
   "cell_type": "code",
   "execution_count": 24,
   "metadata": {},
   "outputs": [
    {
     "data": {
      "text/plain": [
       "['ag_001',\n",
       " 'ag_002',\n",
       " 'ag_003',\n",
       " 'ay_005',\n",
       " 'ba_004',\n",
       " 'cs_002',\n",
       " 'ee_005',\n",
       " 'ba_000',\n",
       " 'cn_000',\n",
       " 'ee_000']"
      ]
     },
     "execution_count": 24,
     "metadata": {},
     "output_type": "execute_result"
    }
   ],
   "source": [
    "top_hist_features"
   ]
  },
  {
   "cell_type": "markdown",
   "metadata": {},
   "source": [
    "#### Obtendo as features numéricas mais importantes:"
   ]
  },
  {
   "cell_type": "code",
   "execution_count": 25,
   "metadata": {},
   "outputs": [
    {
     "name": "stdout",
     "output_type": "stream",
     "text": [
      "Features numéricas mais importantes:  ['ai_000', 'al_000', 'am_0', 'aq_000', 'bg_000', 'bh_000', 'bj_000', 'cj_000', 'df_000', 'dn_000']\n",
      "Número de features numéricas mais importantes: 10\n"
     ]
    }
   ],
   "source": [
    "num_features['class'] = df_train['class']\n",
    "imp_num_features = num_features.dropna()\n",
    "y = imp_num_features['class']\n",
    "X = imp_num_features.drop('class',axis=1)\n",
    "top_num_features_rfe = top_features_rfe(X,y,10) # seleciona as top 10 features numéricas mais importantes\n",
    "top_num_features=[];\n",
    "hist_col = X.columns\n",
    "for i in range(len(hist_col)):\n",
    "  if top_num_features_rfe[i]:\n",
    "    top_num_features.append(hist_col[i]) \n",
    "\n",
    "print(\"Features numéricas mais importantes: \", top_num_features)\n",
    "print(\"Número de features numéricas mais importantes:\", len(top_num_features))"
   ]
  },
  {
   "cell_type": "markdown",
   "metadata": {},
   "source": [
    "# 5. Features Engineering"
   ]
  },
  {
   "cell_type": "markdown",
   "metadata": {},
   "source": [
    "# 6. Modelling"
   ]
  },
  {
   "cell_type": "markdown",
   "metadata": {},
   "source": [
    "# 7. Communication"
   ]
  }
 ],
 "metadata": {
  "kernelspec": {
   "display_name": "ds_env",
   "language": "python",
   "name": "python3"
  },
  "language_info": {
   "codemirror_mode": {
    "name": "ipython",
    "version": 3
   },
   "file_extension": ".py",
   "mimetype": "text/x-python",
   "name": "python",
   "nbconvert_exporter": "python",
   "pygments_lexer": "ipython3",
   "version": "3.12.4"
  }
 },
 "nbformat": 4,
 "nbformat_minor": 2
}
